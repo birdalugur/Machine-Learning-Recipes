{
 "cells": [
  {
   "cell_type": "markdown",
   "metadata": {},
   "source": [
    "*Machine Learning* the study of algorithms that learn from examples and experience instead of relying on hard-coded rules."
   ]
  },
  {
   "cell_type": "markdown",
   "metadata": {},
   "source": [
    "\n",
    "### Important Concepts\n",
    "\n",
    "- How does this work in the real world?\n",
    "- How much training data do you need?\n",
    "- How is the tree created?\n",
    "- What makes a good feature?\n",
    "\n",
    "For example, I could have a picture\n",
    "and want to classify it as an apple or an orange.\n",
    "Or I have an email, and I want to classify it\n",
    "as spam or not spam.\n",
    "The technique to write the classifier\n",
    "automatically is called **supervised learning**.\n",
    "It begins with *examples of the problem* you want to solve.\n",
    "\n",
    "<img src=\"https://raw.githubusercontent.com/birdalugureren/Machine-Learning-Recipes/master/img/supervised%20learning.png?token=AGJJGUCRDODDGWO6IKJZ2ES7Z2DJ4\"/>\n"
   ]
  },
  {
   "cell_type": "markdown",
   "metadata": {},
   "source": [
    "### Classifier Example\n",
    "\n",
    "It takes some data as input and assigns a label to it as output."
   ]
  },
  {
   "cell_type": "code",
   "execution_count": 1,
   "metadata": {},
   "outputs": [],
   "source": [
    "from sklearn import tree"
   ]
  },
  {
   "cell_type": "markdown",
   "metadata": {},
   "source": [
    "#### Training data\n",
    "Each row in our training data is an example.\n",
    "The more training data you have, the better a classifier\n",
    "you can create."
   ]
  },
  {
   "cell_type": "code",
   "execution_count": 2,
   "metadata": {},
   "outputs": [],
   "source": [
    "features = [[140,'smooth'], [130,'smooth'], [150,'bumpy'],[170,'bumpy']]\n",
    "labels = ['apple','apple','orange','orange']"
   ]
  },
  {
   "cell_type": "code",
   "execution_count": 3,
   "metadata": {},
   "outputs": [],
   "source": [
    "features = [[140,1], [130,1], [150,0],[170,0]]\n",
    "labels = [0,0,1,1]"
   ]
  },
  {
   "cell_type": "markdown",
   "metadata": {},
   "source": [
    "<img src=\"https://raw.githubusercontent.com/birdalugureren/Machine-Learning-Recipes/master/img/decisiontree%231.png\"/>"
   ]
  },
  {
   "cell_type": "code",
   "execution_count": 4,
   "metadata": {},
   "outputs": [],
   "source": [
    "clf = tree.DecisionTreeClassifier()"
   ]
  },
  {
   "cell_type": "markdown",
   "metadata": {},
   "source": [
    "To train it, we'll need a learning algorithm.\n",
    "For example, it might notice oranges tend to weigh more,\n",
    "so it'll create a rule saying that the heavier fruit is,\n",
    "the more likely it is to be an orange.\n",
    "In scikit, the training algorithm\n",
    "is included in the classifier object, and it's called Fit."
   ]
  },
  {
   "cell_type": "code",
   "execution_count": 5,
   "metadata": {},
   "outputs": [],
   "source": [
    "clf = clf.fit(features,labels)"
   ]
  },
  {
   "cell_type": "code",
   "execution_count": 6,
   "metadata": {},
   "outputs": [
    {
     "data": {
      "text/plain": [
       "array([1])"
      ]
     },
     "execution_count": 6,
     "metadata": {},
     "output_type": "execute_result"
    }
   ],
   "source": [
    "clf.predict([[150,0]])"
   ]
  },
  {
   "cell_type": "code",
   "execution_count": 7,
   "metadata": {},
   "outputs": [
    {
     "data": {
      "text/plain": [
       "array([1])"
      ]
     },
     "execution_count": 7,
     "metadata": {},
     "output_type": "execute_result"
    }
   ],
   "source": [
    "clf.predict([[200,0]])"
   ]
  },
  {
   "cell_type": "code",
   "execution_count": 8,
   "metadata": {},
   "outputs": [
    {
     "data": {
      "text/plain": [
       "array([0])"
      ]
     },
     "execution_count": 8,
     "metadata": {},
     "output_type": "execute_result"
    }
   ],
   "source": [
    "clf.predict([[50,0]])"
   ]
  }
 ],
 "metadata": {
  "kernelspec": {
   "display_name": "Python 3",
   "language": "python",
   "name": "python3"
  },
  "language_info": {
   "codemirror_mode": {
    "name": "ipython",
    "version": 3
   },
   "file_extension": ".py",
   "mimetype": "text/x-python",
   "name": "python",
   "nbconvert_exporter": "python",
   "pygments_lexer": "ipython3",
   "version": "3.8.5"
  }
 },
 "nbformat": 4,
 "nbformat_minor": 4
}
