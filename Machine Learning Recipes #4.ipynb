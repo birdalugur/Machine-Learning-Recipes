{
 "cells": [
  {
   "cell_type": "markdown",
   "metadata": {},
   "source": [
    "# Let’s Write a Pipeline "
   ]
  },
  {
   "cell_type": "code",
   "execution_count": 1,
   "metadata": {},
   "outputs": [],
   "source": [
    "from IPython.core.interactiveshell import InteractiveShell\n",
    "InteractiveShell.ast_node_interactivity = \"all\""
   ]
  },
  {
   "cell_type": "code",
   "execution_count": 2,
   "metadata": {},
   "outputs": [],
   "source": [
    "import pandas as pd"
   ]
  },
  {
   "cell_type": "markdown",
   "metadata": {},
   "source": [
    "Size birden fazla sınıflandırıcının aynı sorunu nasıl çözebileceğini göstereceğim. Sonra, bir algoritmanın verilerden bir şeyler öğrenmesinin ne anlama geldiğine dair biraz daha sezgiler geliştireceğiz, çünkü bu biraz sihirli geliyor, ama değil. İşleri başlatmak için, yapmak isteyebileceğiniz ortak bir deneye bakalım. Bir spam sınıflandırıcı oluşturduğunuzu hayal edin. Bu, gelen bir e-postayı spam veya spam değil olarak etiketleyen bir işlevdir. Şimdi, zaten bir veri kümesi topladığınızı ve bir model eğitmeye hazır olduğunuzu varsayalım.\n",
    "\n",
    "<br/>\n",
    "    \n",
    "```\n",
    "|   |                           Email |    Label |\n",
    "|--:|--------------------------------:|---------:|\n",
    "| 0 |            CFDI Manager Emisión |     Spam |\n",
    "| 1 | Siparişiniz kargoya verilmiştir | Not spam |\n",
    "| 2 |  Para Transferi Bilgilendirmesi | Not spam |\n",
    "| 3 |          You have won $1000,000 |     Spam |\n",
    "```\n",
    "\n",
    "Ancak bunu üretime sokmadan önce yanıtlamanız gereken bir soru var - eğitim verilerinizde olmayan e-postaları sınıflandırmak için kullandığınızda bu ne kadar doğru olacak? Yapabileceğimizin en iyisi, onları dağıtmadan önce modellerimizin iyi çalıştığını doğrulamak istiyoruz. Bunu anlamamıza yardımcı olacak bir deney yapabiliriz. Bir yaklaşım, veri setimizi iki bölüme ayırmaktır. Bunlara Eğitim ve Test adını vereceğiz. Modelimizi eğitmek için Train'i ve yeni verilerde ne kadar doğru olduğunu görmek için Test'i kullanacağız.\n",
    "\n",
    "```\n",
    "|   |                                             Email |    Label |\n",
    "|--:|--------------------------------------------------:|---------:|\n",
    "| 0 |                New course! Applications of TinyML | Not spam |\n",
    "| 1 | Free course for you: Introduction to TensorFlo... |     Spam |\n",
    "| 2 | What does \"192\" mean in an IP addresses and Wh... | Not spam |\n",
    "| 3 |                            You have won $1000,000 |     Spam |\n",
    "```\n",
    "<img src='https://raw.githubusercontent.com/birdalugureren/Machine-Learning-Recipes/master/img/x_y.png?token=AGJJGUAJIDQSVZKQSF7EMEC76I5TM'>\n",
    "x'i girdi ve y'yi çıktı olarak düşünebilirsiniz. "
   ]
  },
  {
   "cell_type": "code",
   "execution_count": 3,
   "metadata": {},
   "outputs": [],
   "source": [
    "from sklearn import datasets"
   ]
  },
  {
   "cell_type": "code",
   "execution_count": 4,
   "metadata": {},
   "outputs": [],
   "source": [
    "iris = datasets.load_iris()"
   ]
  },
  {
   "cell_type": "code",
   "execution_count": 5,
   "metadata": {},
   "outputs": [],
   "source": [
    "X = iris.data\n",
    "y = iris.target"
   ]
  },
  {
   "cell_type": "markdown",
   "metadata": {},
   "source": [
    "Veriyi eğitim ve test verisi olarak ayırıyoruz ve verilerin yarısının test için kullanılmasını istiyoruz."
   ]
  },
  {
   "cell_type": "code",
   "execution_count": 6,
   "metadata": {},
   "outputs": [],
   "source": [
    "from sklearn.model_selection import train_test_split"
   ]
  },
  {
   "cell_type": "code",
   "execution_count": 7,
   "metadata": {},
   "outputs": [],
   "source": [
    "X_train, X_test, y_train, y_test = train_test_split(X,y,test_size=0.5)"
   ]
  },
  {
   "cell_type": "markdown",
   "metadata": {},
   "source": [
    "Size aynı görevi nasıl başardıklarını göstermek için burada iki farklı tür kullanacağım."
   ]
  },
  {
   "cell_type": "code",
   "execution_count": 8,
   "metadata": {},
   "outputs": [],
   "source": [
    "from sklearn import tree\n",
    "my_classifier = tree.DecisionTreeClassifier()"
   ]
  },
  {
   "cell_type": "code",
   "execution_count": 9,
   "metadata": {},
   "outputs": [
    {
     "data": {
      "text/plain": [
       "DecisionTreeClassifier()"
      ]
     },
     "execution_count": 9,
     "metadata": {},
     "output_type": "execute_result"
    }
   ],
   "source": [
    "my_classifier.fit(X=X_train, y=y_train)\n",
    "predictions = my_classifier.predict(X_test)"
   ]
  },
  {
   "cell_type": "markdown",
   "metadata": {},
   "source": [
    "Şimdi sınıflandırıcımızın test setinde ne kadar doğru olduğunu görelim.\n",
    "Doğruluğumuzu hesaplamak için, tahmin edilen etiketleri gerçek etiketlerle karşılaştırabiliriz.\n",
    "Doğruluk %90'nın üzerinde."
   ]
  },
  {
   "cell_type": "code",
   "execution_count": 10,
   "metadata": {},
   "outputs": [],
   "source": [
    "from sklearn.metrics import accuracy_score"
   ]
  },
  {
   "cell_type": "code",
   "execution_count": 11,
   "metadata": {},
   "outputs": [
    {
     "data": {
      "text/plain": [
       "0.96"
      ]
     },
     "execution_count": 11,
     "metadata": {},
     "output_type": "execute_result"
    }
   ],
   "source": [
    "accuracy_score(y_test, predictions)"
   ]
  },
  {
   "cell_type": "markdown",
   "metadata": {},
   "source": [
    "Aynı görevi gerçekleştirmek için farklı bir sınıflandırıcı kullanabiliriz.\n",
    "Karar ağacı kullanmak yerine KNearestNeighbors kullanacağız.\n",
    "Buradaki çıkarım, birçok farklı türde sınıflandırıcı varken, yüksek düzeyde, benzer bir arayüze sahip olmalarıdır."
   ]
  },
  {
   "cell_type": "code",
   "execution_count": 12,
   "metadata": {},
   "outputs": [
    {
     "data": {
      "text/plain": [
       "KNeighborsClassifier()"
      ]
     },
     "execution_count": 12,
     "metadata": {},
     "output_type": "execute_result"
    }
   ],
   "source": [
    "from sklearn.neighbors import KNeighborsClassifier\n",
    "my_classifier = KNeighborsClassifier()\n",
    "\n",
    "my_classifier.fit(X=X_train, y=y_train)\n",
    "predictions = my_classifier.predict(X_test)"
   ]
  },
  {
   "cell_type": "code",
   "execution_count": 13,
   "metadata": {},
   "outputs": [
    {
     "data": {
      "text/plain": [
       "0.9733333333333334"
      ]
     },
     "execution_count": 13,
     "metadata": {},
     "output_type": "execute_result"
    }
   ],
   "source": [
    "accuracy_score(y_test, predictions)"
   ]
  },
  {
   "cell_type": "markdown",
   "metadata": {},
   "source": [
    " Denetimli öğrenmede zaten bildiğimiz gibi, bunu kendimiz yazmak istemiyoruz:\n",
    "```py        \n",
    "def classify(features):\n",
    "    # do some logic\n",
    "    return label\n",
    "```\n",
    "Eğitim verilerinden öğrenecek bir algoritma istiyoruz. Peki bir işlevi öğrenmek ne demektir? Bir fonksiyon, girdiden çıktı değerlerine sadece bir eşlemedir.Burada anlaşılması gereken önemli şey, sıfırdan başlayıp işlevin gövdesini havadan çekip çıkarmadığımızdır. Bunun yerine bir modelle başlıyoruz. Ve bir modeli, işlevimizin gövdesini tanımlayan kurallar veya prototip olarak düşünebilirsiniz. Tipik olarak, bir modelin eğitim verilerimizle ayarlayabileceğimiz parametreleri vardır.\n",
    "\n",
    "<img src='https://raw.githubusercontent.com/birdalugureren/Machine-Learning-Recipes/master/img/classfr.png?token=AGJJGUB2D7BUGLOGHRL4Z4S76I5U4'>"
   ]
  }
 ],
 "metadata": {
  "kernelspec": {
   "display_name": "Python 3",
   "language": "python",
   "name": "python3"
  },
  "language_info": {
   "codemirror_mode": {
    "name": "ipython",
    "version": 3
   },
   "file_extension": ".py",
   "mimetype": "text/x-python",
   "name": "python",
   "nbconvert_exporter": "python",
   "pygments_lexer": "ipython3",
   "version": "3.8.5"
  }
 },
 "nbformat": 4,
 "nbformat_minor": 4
}
