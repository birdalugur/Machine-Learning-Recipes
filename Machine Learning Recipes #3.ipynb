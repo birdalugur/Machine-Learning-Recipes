{
 "cells": [
  {
   "cell_type": "markdown",
   "metadata": {},
   "source": [
    "### What Makes a Good Feature?"
   ]
  },
  {
   "cell_type": "code",
   "execution_count": 1,
   "metadata": {},
   "outputs": [],
   "source": [
    "import numpy as np\n",
    "import matplotlib.pyplot as plt"
   ]
  },
  {
   "cell_type": "markdown",
   "metadata": {},
   "source": [
    "1000 köpekten oluşan bir popülasyon oluşturuyorum - 50-50 tazı Labrador. Bu örnek için, tazıların ortalama 28 inç ve Labradorların 24 cm boyunda olduğunu söyleyeceğiz. Şimdi, tüm köpekler biraz farklı. Diyelim ki yükseklik normal olarak dağıtıldı, bu yüzden ikisini de artı veya eksi 4 inç yapacağız."
   ]
  },
  {
   "cell_type": "code",
   "execution_count": 2,
   "metadata": {},
   "outputs": [],
   "source": [
    "greyhounds = 500\n",
    "labs = 500"
   ]
  },
  {
   "cell_type": "code",
   "execution_count": 3,
   "metadata": {},
   "outputs": [],
   "source": [
    "grey_height = 28 +  np.random.randint(-5,5,greyhounds)\n",
    "lab_height = 24 +  np.random.randint(-5,5,labs)"
   ]
  },
  {
   "cell_type": "markdown",
   "metadata": {},
   "source": [
    "Bu bize iki sayı dizisi verecek ve bunları bir histogramda görselleştirebiliriz. Tazıların kırmızı ve Labradorların mavi olması için bir parametre ekleyeceğim. "
   ]
  },
  {
   "cell_type": "code",
   "execution_count": 4,
   "metadata": {},
   "outputs": [
    {
     "data": {
      "text/plain": [
       "(array([[  0.,   0.,   0.,  83.,  41.,  52., 115.,  47.,  65.,  97.],\n",
       "        [103.,  49.,  55., 111.,  48.,  40.,  94.,   0.,   0.,   0.]]),\n",
       " array([19. , 20.3, 21.6, 22.9, 24.2, 25.5, 26.8, 28.1, 29.4, 30.7, 32. ]),\n",
       " <a list of 2 BarContainer objects>)"
      ]
     },
     "execution_count": 4,
     "metadata": {},
     "output_type": "execute_result"
    },
    {
     "data": {
      "image/png": "[encoded data removed]",
      "text/plain": [
       "<Figure size 432x288 with 1 Axes>"
      ]
     },
     "metadata": {
      "needs_background": "light"
     },
     "output_type": "display_data"
    }
   ],
   "source": [
    "plt.hist([grey_height,lab_height], color=['r','b'])"
   ]
  }
 ],
 "metadata": {
  "kernelspec": {
   "display_name": "Python 3",
   "language": "python",
   "name": "python3"
  },
  "language_info": {
   "codemirror_mode": {
    "name": "ipython",
    "version": 3
   },
   "file_extension": ".py",
   "mimetype": "text/x-python",
   "name": "python",
   "nbconvert_exporter": "python",
   "pygments_lexer": "ipython3",
   "version": "3.8.5"
  }
 },
 "nbformat": 4,
 "nbformat_minor": 4
}
