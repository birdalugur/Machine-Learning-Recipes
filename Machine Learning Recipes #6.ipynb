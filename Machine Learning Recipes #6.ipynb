{
 "cells": [
  {
   "cell_type": "markdown",
   "metadata": {},
   "source": [
    "# Train an Image Classifier with TfP"
   ]
  },
  {
   "cell_type": "markdown",
   "metadata": {},
   "source": [
    "Notebook : https://colab.research.google.com/github/tensorflow/docs/blob/master/site/en/tutorials/images/transfer_learning_with_hub.ipynb#scrollTo=OGNpmn43C0O6\n",
    "Bir T. rex resmi ile bir triceratops arasındaki farkı söyleyebilecek bir sınıflandırıcı oluşturmak istediğinizi varsayalım.\n",
    "\n",
    "<img src='img/trex.png'>\n",
    "\n",
    "Bunu yapmak için TensorFlow Poets adlı bir Code Lab ile çalışacağız.\n",
    "\n",
    "TfP ile bir görüntü sınıflandırıcıyı eğitmek için yalnızca tek bir şey sağlamamız gerekiyor: *training data*.\n",
    "\n",
    "Plan, beş çiçek türü (gül, ayçiçeği vb.) arasındaki farkı anlatmak için bir sınıflandırıcı oluşturmaktır. Eğitim verileri şöyle görünmelidir:\n",
    "\n",
    "```sh\n",
    "➜  Machine Learning Recipes git:(master) ✗ ls flower_photos\n",
    "daisy  dandelion  LICENSE.txt  roses  sunflowers  tulips\n",
    "```\n",
    "\n",
    "Veriyi indirmek için:\n",
    "\n",
    "```sh\n",
    "wget https://storage.googleapis.com/download.tensorflow.org/example_images/flower_photos.tgz\n",
    "```\n",
    "Her çiçek türü için bir tane olmak üzere beş dizin olduğuna dikkat edin. Başlamak için her dizinde yaklaşık 100 resme ihtiyacımız olacak. Yapmamız gereken bir sonraki şey sınıflandırıcımızı eğitmek.\n",
    "\n",
    "TensorFlow özellikle deep learning için kullanışlıdır. Deep learning, son birkaç yılda, özellikle bugün üzerinde çalışacağımız görüntü sınıflandırması gibi alanlarda harika sonuçlara yol açtı.\n",
    "\n",
    "<img src='img/lion.png'>\n",
    "\n",
    "Birinci bölümden hatırlayın, elma ve portakal arasındaki farkı anlatmaktan bahsetmiştik. Bunu elle yapmanın imkansız olduğunu gördük çünkü dünyada çok fazla varyasyon var. \n",
    "\n",
    "\n",
    "Örneğin, bir meyvenin dokusunu tespit etmek için kod yazmak istemezsiniz:\n",
    "\n",
    "```python\n",
    "def is_bumpy(pixels):\n",
    "    ...?\n",
    "```\n",
    "Bunu aşmak için derin öğrenmeyi kullanıyoruz çünkü resimlerle çalışırken büyük bir avantajı var. Özellikleri manuel olarak çıkarmanıza gerek yoktur. Bunun yerine, görüntünün ham piksellerini kullanabilirsiniz ve sınıflandırıcı gerisini halleder.\n",
    "\n",
    "<img src='img/pixel.png'>\n",
    "\n",
    "Eğitim verilerindeki farkı görmek için, Iris veri kümesini görüntü dizinlerimizle karşılaştıralım. Iris'te her sütun, çiçeği tanımlayan bir özelliktir. Ve bu özellikleri, çiçeği bir cetvelle ölçerek manuel olarak bulduğumuzu hayal edebilirsiniz. TfP'daki eğitim verilerimiz ise etiketli resimlerin bir listesi.\n",
    "\n",
    "<img src='img/piclist.png'>\n",
    "\n",
    "Sınıflandırıcı yine sadece bir işlevdir. `f(x)= y`. \n",
    "Burada *x*, görüntünün 2D piksel dizisidir.\n",
    "Ve *y* gül gibi bir etikettir."
   ]
  },
  {
   "cell_type": "markdown",
   "metadata": {},
   "source": [
    "**Derin öğrenmede**, kullanacağımız sınıflandırıcıya **sinir ağı** deniyor.\n",
    "\n",
    "<img src='img/neural.png'>\n",
    "\n",
    "Bir sinir ağı daha karmaşık işlevleri öğrenebilir. TfP, perde arkasında sinir ağını kurup eğitir.\n",
    "\n",
    "TensorFlow programlarını yazmanın en sevilen yolu TF Learn kullanmaktır.\n",
    "\n",
    "### TF Learn\n",
    "- High level ML library on top of TensorFlow.\n",
    "- Similar to scikit-learn\n",
    "\n",
    "Şimdi [TfP](https://kiosk-dot-codelabs-site.appspot.com/codelabs/tensorflow-for-poets/#0)'e dönelim ve sınıflandırıcımızı eğitelim.\n",
    "TfP aslında bir sınıflandırıcıyı sıfırdan eğitmiyor. Onun yerine **Inception** adlı mevcut bir sınıflandırıcıyla başlar. Inception, Google'ın en iyi görüntü sınıflandırıcılarından biridir ve açık kaynaktır.\n",
    "\n",
    "Eğitim verilerimizde sadece birkaç bin görselimiz varken, Inception *1000 farklı kategoriden 1,2 milyon görsel* üzerinde eğitildi. Inception'ı eğitmek, 8 GPU'lu hızlı bir PC'de yaklaşık iki hafta sürdü.\n",
    "\n",
    "TfP'da, Inception ile başlayacağız ve ardından onu görüntülerimizle çalışacak şekilde ayarlamak için *Retraining* adı verilen bir teknik kullanacağız. Bu, Inception'ın daha önce öğrendiklerini yeniden kullanmamızı sağlar, böylece çok daha az eğitim verisi ile yüksek doğrulukta bir sınıflandırıcı oluşturabiliriz.\n",
    "\n",
    "#### Retraining\n",
    "also know as **Transfer Learning**\n",
    "- Saves a lot of time\n",
    "- Leverages prior work\n",
    "\n",
    "Sınıflandırıcımızın yalnızca gösterdiğimiz eğitim verilerini bildiğini unutmayın. Bu yüzden, örneğin Roma Kolezyumu'nun bir görüntüsünü sınıflandırmasını istersek, bunun bir çiçek türü olduğunu tahmin eder.\n",
    "\n",
    "<img src='img/kolezyum-1.jpeg'>\n",
    "\n",
    "İyi bir görüntü sınıflandırıcı eğitmek için oyunun adı çeşitlilik ve niceliktir. Çeşitlilik derken, sahip olduğumuz farklı gül türlerinin için daha fazla görüntüsünü kastediyorum. Örneğin, eğitim verilerimiz; kırmızı, beyaz ve sarı gülleri ayrıca farklı açılardan çekilmiş fotoğrafları içerir. Miktar olarak ne kadar çok eğitim verisine sahip olursak, o kadar iyi bir sınıflandırıcı oluşturabiliriz.\n",
    "\n",
    "Devam edebilirsiniz:\n",
    "\n",
    "[TensorFlow Tutorial](https://www.tensorflow.org/tutorials) <br/>\n",
    "[Train your own image classifier with Inception in TensorFlow](https://ai.googleblog.com/2016/03/train-your-own-image-classifier-with.html) <br/>\n",
    "[TenserFlow for Poets](https://kiosk-dot-codelabs-site.appspot.com/codelabs/tensorflow-for-poets/#0)"
   ]
  }
 ],
 "metadata": {
  "kernelspec": {
   "display_name": "Python 3",
   "language": "python",
   "name": "python3"
  },
  "language_info": {
   "codemirror_mode": {
    "name": "ipython",
    "version": 3
   },
   "file_extension": ".py",
   "mimetype": "text/x-python",
   "name": "python",
   "nbconvert_exporter": "python",
   "pygments_lexer": "ipython3",
   "version": "3.8.5"
  }
 },
 "nbformat": 4,
 "nbformat_minor": 4
}
