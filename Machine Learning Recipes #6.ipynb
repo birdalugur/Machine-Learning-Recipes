{
 "cells": [
  {
   "cell_type": "markdown",
   "metadata": {},
   "source": [
    "# Train an Image Classifier with TensorFlow for Poets"
   ]
  },
  {
   "cell_type": "markdown",
   "metadata": {},
   "source": [
    "Notebook : https://colab.research.google.com/github/tensorflow/docs/blob/master/site/en/tutorials/images/transfer_learning_with_hub.ipynb#scrollTo=OGNpmn43C0O6\n",
    "Bir T. rex resmi ile bir triceratops arasındaki farkı söyleyebilecek bir sınıflandırıcı oluşturmak istediğinizi varsayalım.\n",
    "\n",
    "<img src='img/trex.png'>\n",
    "\n",
    "Bunu yapmak için TensorFlow Poets adlı bir Code Lab ile çalışacağız.\n",
    "\n",
    "TensorFlow for Poets ile bir görüntü sınıflandırıcıyı eğitmek için yalnızca tek bir şey sağlamamız gerekiyor: *training data*.\n",
    "\n",
    "Plan, beş çiçek türü (güller, ayçiçeği vb.) arasındaki farkı anlatmak için bir sınıflandırıcı oluşturmaktır. Eğitim verileri şöyle görünmelidir:\n",
    "\n",
    "<img src='img/imageclassifr.png'>\n",
    "\n",
    "Veriyi indirmek için:\n",
    "\n",
    "```sh\n",
    "wget https://storage.googleapis.com/download.tensorflow.org/example_images/flower_photos.tgz\n",
    "```\n",
    "Her çiçek türü için bir tane olmak üzere beş dizin olduğuna dikkat edin. Başlamak için her dizinde yaklaşık 100 resme ihtiyacımız olacak. Yapmamız gereken bir sonraki şey sınıflandırıcımızı eğitmek.\n",
    "\n",
    "TensorFlow özellikle deep learning için kullanışlıdır. Deep learning, son birkaç yılda, özellikle bugün üzerinde çalışacağımız görüntü sınıflandırması gibi alanlarda harika sonuçlara yol açtı.\n",
    "\n",
    "Birinci bölümde hatırlayın, elma ve portakal arasındaki farkı anlatmaktan bahsetmiştik. Bunu elle yapmanın imkansız olduğunu gördük çünkü dünyada çok fazla varyasyon var. "
   ]
  }
 ],
 "metadata": {
  "kernelspec": {
   "display_name": "Python 3",
   "language": "python",
   "name": "python3"
  },
  "language_info": {
   "codemirror_mode": {
    "name": "ipython",
    "version": 3
   },
   "file_extension": ".py",
   "mimetype": "text/x-python",
   "name": "python",
   "nbconvert_exporter": "python",
   "pygments_lexer": "ipython3",
   "version": "3.8.5"
  }
 },
 "nbformat": 4,
 "nbformat_minor": 4
}
